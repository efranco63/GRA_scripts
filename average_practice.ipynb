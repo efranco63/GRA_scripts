{
 "metadata": {
  "name": "",
  "signature": "sha256:67a907815a70f7adcef82adb2b701fb10c33c242882fdb35fbf32b3a32ff9647"
 },
 "nbformat": 3,
 "nbformat_minor": 0,
 "worksheets": [
  {
   "cells": [
    {
     "cell_type": "code",
     "collapsed": false,
     "input": [
      "import numpy as np\n",
      "import pandas as pd\n",
      "import scipy as sp\n",
      "import csvkit\n",
      "\n",
      "df = pd.read_csv('test_set.csv')\n",
      "#df = df.dropna()\n",
      "#count the number of non NA values in each row for flagging rows that have too many NAs, defined as less than 5\n",
      "df['count'] = df.count(axis=1)\n",
      "\n",
      "mon = ['jan','feb','mar','apr','may','jun','jul','aug','sep','oct','nov','dec']\n",
      "#create dictionary with months as keys and the average energy usage as values\n",
      "months = {}\n",
      "for i in mon:\n",
      "    months[i] = (np.average(df[i].dropna()))\n",
      "\n",
      "#create the new columns that keep track of how customer deviates from the average each month\n",
      "mon_diff = []\n",
      "for i in mon:\n",
      "    df[i+'_avgdiff'] = (months[i] - df[i])/months[i]\n",
      "    mon_diff.append(i+'_avgdiff')\n",
      "\n",
      "#calculate the average of the customer deviations\n",
      "    df['deviation'] = np.nanmean(df[mon_diff],axis=1)\n",
      "\n",
      "#for each NA in the original data, fill it in as the monthly average +/- the average deviation of the customer \n",
      "for i in mon:\n",
      "    df[i] = df[i].fillna(months[i]+(months[i]*df['deviation']))\n",
      "\n",
      "q75, q25 = np.percentile(df['jan'], [75 ,25])\n",
      "iqr = q75 - q25\n",
      "print iqr\n",
      "upper_outlier = iqr + (1.5*iqr)\n",
      "lower_outlier = iqr - (1.5*iqr)\n",
      "print upper_outlier\n",
      "print lower_outlier"
     ],
     "language": "python",
     "metadata": {},
     "outputs": [
      {
       "output_type": "stream",
       "stream": "stdout",
       "text": [
        "31180.368836\n",
        "77950.9220901\n",
        "-15590.184418\n"
       ]
      }
     ],
     "prompt_number": 12
    },
    {
     "cell_type": "code",
     "collapsed": false,
     "input": [],
     "language": "python",
     "metadata": {},
     "outputs": []
    }
   ],
   "metadata": {}
  }
 ]
}